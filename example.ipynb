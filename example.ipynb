{
 "cells": [
  {
   "cell_type": "code",
   "execution_count": 122,
   "metadata": {},
   "outputs": [
    {
     "name": "stdout",
     "output_type": "stream",
     "text": [
      "The autoreload extension is already loaded. To reload it, use:\n",
      "  %reload_ext autoreload\n"
     ]
    }
   ],
   "source": [
    "%load_ext autoreload\n",
    "%autoreload 2\n",
    "import numpy as np\n",
    "import astropy.coordinates\n",
    "from astropy import units as u\n",
    "import path\n",
    "import matplotlib.pyplot as plt\n",
    "import matplotlib as mpl"
   ]
  },
  {
   "cell_type": "code",
   "execution_count": 129,
   "metadata": {},
   "outputs": [
    {
     "name": "stdout",
     "output_type": "stream",
     "text": [
      "11.066342031734408 67.05318381416612 -10.860261633798082 -6.209394356388839 8.64949922577398\n"
     ]
    },
    {
     "data": {
      "image/png": "[encoded data removed]",
      "text/plain": [
       "<Figure size 432x288 with 1 Axes>"
      ]
     },
     "metadata": {
      "needs_background": "light"
     },
     "output_type": "display_data"
    }
   ],
   "source": [
    "ra=360*np.random.rand()\n",
    "dec=90*(-1+2*np.random.rand())\n",
    "pmra=10*np.random.randn()\n",
    "pmdec=10*np.random.randn()\n",
    "pllx=10*np.random.rand()\n",
    "params=path.params()\n",
    "params.RA=ra\n",
    "params.Dec=dec\n",
    "params.pmRA=pmra\n",
    "params.pmDec=pmdec\n",
    "params.pllx=pllx\n",
    "ts=np.sort((34/12)*np.random.rand(64))\n",
    "print(ra,dec,pmra,pmdec,pllx)\n",
    "ras,decs=path.path(ts,params)\n",
    "\n",
    "\n",
    "dRas=(ras-ra)/path.mas2deg\n",
    "dDecs=(decs-dec)/path.mas2deg\n",
    "\n",
    "qPl=plt.gca()\n",
    "timeCmap=mpl.cm.get_cmap('cividis_r')\n",
    "qPl.scatter(dRas,dDecs,s=10,c=timeCmap(ts/ts[-1]))\n",
    "qPl.arrow(0,0,pmra,pmdec,head_width=0.8,color='k')\n",
    "qPl.set_aspect('equal')\n",
    "plt.show()"
   ]
  },
  {
   "cell_type": "code",
   "execution_count": 118,
   "metadata": {},
   "outputs": [],
   "source": [
    "coord=astropy.coordinates.SkyCoord(ra=10.625*u.degree, dec=0*u.degree, pm_ra_cosdec=2*u.mas/u.yr, pm_dec=2*u.mas/u.yr, frame='icrs')"
   ]
  },
  {
   "cell_type": "code",
   "execution_count": 35,
   "metadata": {},
   "outputs": [
    {
     "name": "stdout",
     "output_type": "stream",
     "text": [
      "<SkyCoord (BarycentricTrueEcliptic: equinox=J2000.000): (lon, lat) in deg\n",
      "    (9.76187984, -4.20625309)\n",
      " (pm_lon_coslat, pm_lat) in mas / yr\n",
      "    (2.62397437, 1.05582126)>\n",
      "9.761879842812618\n",
      "2.631061186369181\n",
      "1.0558212570902263\n",
      "3.1588453940496404\n",
      "2.8284271247461903\n"
     ]
    }
   ],
   "source": [
    "print(coord.barycentrictrueecliptic)\n",
    "print(coord.barycentrictrueecliptic.lon.degree)\n",
    "lat=coord.barycentrictrueecliptic.lat.degree\n",
    "print(coord.barycentrictrueecliptic.pm_lon_coslat.value/np.cos(np.pi*lat/180))\n",
    "print(coord.barycentrictrueecliptic.pm_lat.value)\n",
    "print(np.sqrt((coord.barycentrictrueecliptic.pm_lon_coslat.value/np.cos(np.pi*lat/180))**2+coord.barycentrictrueecliptic.pm_lat.value++2))\n",
    "print(np.sqrt(8))"
   ]
  },
  {
   "cell_type": "code",
   "execution_count": 37,
   "metadata": {},
   "outputs": [],
   "source": [
    "coord=astropy.coordinates.SkyCoord(lon=10.625*u.degree, lat=0*u.degree, frame='barycentrictrueecliptic')"
   ]
  },
  {
   "cell_type": "code",
   "execution_count": 39,
   "metadata": {},
   "outputs": [
    {
     "name": "stdout",
     "output_type": "stream",
     "text": [
      "<SkyCoord (ICRS): (ra, dec) in deg\n",
      "    (9.76931376, 4.20776907)>\n"
     ]
    }
   ],
   "source": [
    "print(coord.icrs)"
   ]
  },
  {
   "cell_type": "code",
   "execution_count": null,
   "metadata": {},
   "outputs": [],
   "source": []
  }
 ],
 "metadata": {
  "kernelspec": {
   "display_name": "Python 3",
   "language": "python",
   "name": "python3"
  },
  "language_info": {
   "codemirror_mode": {
    "name": "ipython",
    "version": 3
   },
   "file_extension": ".py",
   "mimetype": "text/x-python",
   "name": "python",
   "nbconvert_exporter": "python",
   "pygments_lexer": "ipython3",
   "version": "3.7.7"
  }
 },
 "nbformat": 4,
 "nbformat_minor": 4
}
