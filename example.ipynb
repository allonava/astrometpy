{
 "cells": [
  {
   "cell_type": "code",
   "execution_count": 308,
   "metadata": {},
   "outputs": [
    {
     "name": "stdout",
     "output_type": "stream",
     "text": [
      "The autoreload extension is already loaded. To reload it, use:\n",
      "  %reload_ext autoreload\n"
     ]
    }
   ],
   "source": [
    "%load_ext autoreload\n",
    "%autoreload 2\n",
    "import numpy as np\n",
    "import astropy\n",
    "from astropy import units as u\n",
    "import astromet\n",
    "import matplotlib.pyplot as plt\n",
    "import matplotlib as mpl"
   ]
  },
  {
   "cell_type": "code",
   "execution_count": 309,
   "metadata": {},
   "outputs": [],
   "source": [
    "dr2period=22/12 # in years\n",
    "edr3Period=34/12 # in years"
   ]
  },
  {
   "cell_type": "code",
   "execution_count": 335,
   "metadata": {},
   "outputs": [
    {
     "name": "stdout",
     "output_type": "stream",
     "text": [
      "119.35355168784646 -39.57891898406973 8.46203313133002 -3.6336899666465228 4.468863118935975\n"
     ]
    },
    {
     "data": {
      "image/png": "[encoded data removed]",
      "text/plain": [
       "<Figure size 432x288 with 1 Axes>"
      ]
     },
     "metadata": {
      "needs_background": "light"
     },
     "output_type": "display_data"
    }
   ],
   "source": [
    "ra=360*np.random.rand()\n",
    "dec=90*(-1+2*np.random.rand())\n",
    "pmra=10*np.random.randn()\n",
    "pmdec=10*np.random.randn()\n",
    "pllx=10*np.random.rand()\n",
    "params=astromet.params()\n",
    "params.RA=ra\n",
    "params.Dec=dec\n",
    "params.pmRA=pmra\n",
    "params.pmDec=pmdec\n",
    "params.pllx=pllx\n",
    "ts=np.sort((34/12)*np.random.rand(128))\n",
    "ts=np.linspace(0,edr3Period,100)\n",
    "print(ra,dec,pmra,pmdec,pllx)\n",
    "ras,decs=astromet.path(ts,params)\n",
    "params.M=5\n",
    "params.q=0.1\n",
    "params.l=0.1\n",
    "bras,bdecs=astromet.path(ts,params)\n",
    "\n",
    "\n",
    "dRas=(ras-ra)/astromet.mas\n",
    "dDecs=(decs-dec)/astromet.mas\n",
    "bdRas=(bras-ra)/astromet.mas\n",
    "bdDecs=(bdecs-dec)/astromet.mas\n",
    "\n",
    "qPl=plt.gca()\n",
    "timeCmap=mpl.cm.get_cmap('cividis_r')\n",
    "binaryCmap=mpl.cm.get_cmap('viridis_r')\n",
    "qPl.scatter(dRas,dDecs,s=5,c=timeCmap(ts/ts[-1]),alpha=0.5)\n",
    "qPl.scatter(bdRas,bdDecs,s=5,c=binaryCmap(ts/ts[-1]))\n",
    "qPl.arrow(0,0,pmra,pmdec,head_width=0.8,color='k')\n",
    "qPl.set_aspect('equal')\n",
    "plt.show()"
   ]
  },
  {
   "cell_type": "code",
   "execution_count": 336,
   "metadata": {},
   "outputs": [
    {
     "name": "stdout",
     "output_type": "stream",
     "text": [
      "medRa:  119.35355168784646\n",
      "119.35355168784646 -39.57891898406973 8.46203313133002 -3.6336899666465228 4.468863118935975\n",
      "[-2.44442384e-09  6.59695160e-10  8.46203313e+00 -3.63368997e+00\n",
      "  4.46886312e+00]\n",
      "[0.20010549 0.21209622 0.12336673 0.12118371 0.09225437]\n"
     ]
    },
    {
     "name": "stderr",
     "output_type": "stream",
     "text": [
      "/Users/zephyr/opt/anaconda3/lib/python3.7/site-packages/ipykernel_launcher.py:7: RuntimeWarning: invalid value encountered in sqrt\n",
      "  import sys\n"
     ]
    }
   ],
   "source": [
    "params,error=astromet.fit(ts,ras,decs)\n",
    "print(ra,dec,pmra,pmdec,pllx)\n",
    "print(params)\n",
    "#print(params/astromet.mas)\n",
    "#print('ra diff (mas): ',(params[0]-ra)/astromet.mas)\n",
    "#print('dec diff (mas): ',(params[1]-dec)/astromet.mas)\n",
    "print(np.diagonal(np.sqrt(error)/astromet.mas))"
   ]
  },
  {
   "cell_type": "code",
   "execution_count": 307,
   "metadata": {},
   "outputs": [
    {
     "name": "stdout",
     "output_type": "stream",
     "text": [
      "10\n"
     ]
    }
   ],
   "source": [
    "print(len(np.ones(10)))"
   ]
  },
  {
   "cell_type": "code",
   "execution_count": 298,
   "metadata": {},
   "outputs": [],
   "source": [
    "coord=astropy.coordinates.SkyCoord(ra=10.625*u.degree, dec=0*u.degree, pm_ra_cosdec=2*u.mas/u.yr, pm_dec=2*u.mas/u.yr, frame='icrs')"
   ]
  },
  {
   "cell_type": "code",
   "execution_count": 252,
   "metadata": {},
   "outputs": [
    {
     "name": "stdout",
     "output_type": "stream",
     "text": [
      "[2456863.94       2456878.22571429 2456892.51142857 2456906.79714286\n",
      " 2456921.08285714 2456935.36857143 2456949.65428571 2456963.94      ]\n",
      "[(0.5437321 , -0.78983095, -0.34253217),\n",
      " (0.73020287, -0.64882719, -0.2814133 ),\n",
      " (0.87472074, -0.47060279, -0.20414676),\n",
      " (0.96846754, -0.26501996, -0.11503166),\n",
      " (1.00558845, -0.04407469, -0.0192449 ),\n",
      " (0.98309622,  0.17947244,  0.07765889),\n",
      " (0.90181995,  0.39207747,  0.16982962),\n",
      " (0.76578746,  0.58081888,  0.25164612)] AU\n",
      "(0.5437321, -0.78983095, -0.34253217) AU\n",
      "[[ 0.5437321  -0.78983095 -0.34253217]\n",
      " [ 0.73020287 -0.64882719 -0.2814133 ]\n",
      " [ 0.87472074 -0.47060279 -0.20414676]\n",
      " [ 0.96846754 -0.26501996 -0.11503166]\n",
      " [ 1.00558845 -0.04407469 -0.0192449 ]\n",
      " [ 0.98309622  0.17947244  0.07765889]\n",
      " [ 0.90181995  0.39207747  0.16982962]\n",
      " [ 0.76578746  0.58081888  0.25164612]]\n",
      "(8, 3)\n"
     ]
    }
   ],
   "source": [
    "ts=2456863.94+np.linspace(0,100,8)\n",
    "print(astropy.time.Time(ts,format='jd'))\n",
    "pos=astropy.coordinates.get_body_barycentric('earth', astropy.time.Time(ts,format='jd'))\n",
    "print(pos)\n",
    "print(pos[0])\n",
    "stack=np.vstack([pos.x.value,pos.y.value,pos.z.value]).T\n",
    "print(stack)\n",
    "print(stack.shape)"
   ]
  },
  {
   "cell_type": "code",
   "execution_count": 139,
   "metadata": {},
   "outputs": [
    {
     "name": "stdout",
     "output_type": "stream",
     "text": [
      "<SkyCoord (BarycentricTrueEcliptic: equinox=J2000.000): (lon, lat) in deg\n",
      "    (9.76187984, -4.20625309)\n",
      " (pm_lon_coslat, pm_lat) in mas / yr\n",
      "    (2.62397437, 1.05582126)>\n",
      "9.761879842812618\n",
      "2.631061186369181\n",
      "1.0558212570902263\n",
      "3.1588453940496404\n",
      "2.8284271247461903\n"
     ]
    }
   ],
   "source": [
    "print(coord.barycentrictrueecliptic)\n",
    "print(coord.barycentrictrueecliptic.lon.degree)\n",
    "lat=coord.barycentrictrueecliptic.lat.degree\n",
    "print(coord.barycentrictrueecliptic.pm_lon_coslat.value/np.cos(np.pi*lat/180))\n",
    "print(coord.barycentrictrueecliptic.pm_lat.value)\n",
    "print(np.sqrt((coord.barycentrictrueecliptic.pm_lon_coslat.value/np.cos(np.pi*lat/180))**2+coord.barycentrictrueecliptic.pm_lat.value++2))\n",
    "print(np.sqrt(8))"
   ]
  },
  {
   "cell_type": "code",
   "execution_count": 37,
   "metadata": {},
   "outputs": [],
   "source": [
    "coord=astropy.coordinates.SkyCoord(lon=10.625*u.degree, lat=0*u.degree, frame='barycentrictrueecliptic')"
   ]
  },
  {
   "cell_type": "code",
   "execution_count": 39,
   "metadata": {},
   "outputs": [
    {
     "name": "stdout",
     "output_type": "stream",
     "text": [
      "<SkyCoord (ICRS): (ra, dec) in deg\n",
      "    (9.76931376, 4.20776907)>\n"
     ]
    }
   ],
   "source": [
    "print(coord.icrs)"
   ]
  },
  {
   "cell_type": "code",
   "execution_count": null,
   "metadata": {},
   "outputs": [],
   "source": []
  }
 ],
 "metadata": {
  "kernelspec": {
   "display_name": "Python 3",
   "language": "python",
   "name": "python3"
  },
  "language_info": {
   "codemirror_mode": {
    "name": "ipython",
    "version": 3
   },
   "file_extension": ".py",
   "mimetype": "text/x-python",
   "name": "python",
   "nbconvert_exporter": "python",
   "pygments_lexer": "ipython3",
   "version": "3.7.7"
  }
 },
 "nbformat": 4,
 "nbformat_minor": 4
}
