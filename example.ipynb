{
 "cells": [
  {
   "cell_type": "code",
   "execution_count": 19,
   "metadata": {},
   "outputs": [
    {
     "name": "stdout",
     "output_type": "stream",
     "text": [
      "The autoreload extension is already loaded. To reload it, use:\n",
      "  %reload_ext autoreload\n"
     ]
    }
   ],
   "source": [
    "# optional but useful for debugging - reimports modules after editing and saving .py files\n",
    "%load_ext autoreload\n",
    "%autoreload 2"
   ]
  },
  {
   "cell_type": "code",
   "execution_count": 1,
   "metadata": {},
   "outputs": [],
   "source": [
    "import numpy as np\n",
    "import astropy\n",
    "from astropy import units as u\n",
    "import astromet\n",
    "import matplotlib.pyplot as plt\n",
    "import matplotlib as mpl"
   ]
  },
  {
   "cell_type": "code",
   "execution_count": 17,
   "metadata": {},
   "outputs": [],
   "source": [
    "dr2period=22/12 # in years\n",
    "edr3Period=34/12 # in years\n",
    "mas=astromet.mas # conversion from degrees to milli-arcseconds"
   ]
  },
  {
   "cell_type": "code",
   "execution_count": 61,
   "metadata": {},
   "outputs": [
    {
     "name": "stdout",
     "output_type": "stream",
     "text": [
      "RA and Dec [degrees]: 33.694625484831484 23.632044744400847\n",
      "Proper motion in RA and Dec [mas/yr]:  7.59290012024251 8.28154452428643\n",
      "Parallax [mas]:  9.024455192753711\n",
      "Mass of brightest source [mSun]:  8.294032710690946\n",
      "Semi-major axis [AU]:  3.858301670289107\n",
      "Eccentricity [dimensionless]:  0.20275014534341418\n",
      "Light (l<1) and mass (q) ratios of binary [dimensionless]:  0.06972222973145492 0.17561197911628046\n",
      "On-sky projection angles (vPhi and vTheta) of binary [radians] 3.449217702315455 2.34226557399318\n",
      "On-sky orientation angle of binary [radians] 5.6207851658239925\n",
      "Time of first binary periapse [years]:  0.2676250488869035\n"
     ]
    }
   ],
   "source": [
    "# times when system is observed [years] relative to start of Gaia's observations (2456863.94 BJD)\n",
    "ts=np.sort(edr3Period*np.random.rand(128))\n",
    "\n",
    "# an object wich holds all the necessary parameters to find the astrometric path\n",
    "params=astromet.params()\n",
    "\n",
    "# For this example we'll generate a random binary system\n",
    "\n",
    "# center of mass parameters\n",
    "params.RA=360*np.random.rand()\n",
    "params.Dec=90*(-1+2*np.random.rand())\n",
    "print('RA and Dec [degrees]:',params.RA,params.Dec)\n",
    "params.pmRA=10*np.random.randn()\n",
    "params.pmDec=10*np.random.randn()\n",
    "print('Proper motion in RA and Dec [mas/yr]: ',params.pmRA,params.pmDec)\n",
    "params.pllx=10*np.random.rand()\n",
    "print('Parallax [mas]: ',params.pllx)\n",
    "\n",
    "# binary parameters\n",
    "params.M=10*np.random.rand()\n",
    "print('Mass of brightest source [mSun]: ',params.M)\n",
    "params.a=5*np.random.rand()\n",
    "print('Semi-major axis [AU]: ',params.a)\n",
    "params.e=np.random.rand()\n",
    "print('Eccentricity [dimensionless]: ',params.e)\n",
    "params.q=10*(np.random.rand()**4)\n",
    "params.l=np.random.rand()\n",
    "print('Light (l<1) and mass (q) ratios of binary [dimensionless]: ',params.l,params.q)\n",
    "params.vPhi=2*np.pi*np.random.rand()\n",
    "params.vTheta=np.pi*np.random.rand()\n",
    "print('On-sky projection angles (vPhi and vTheta) of binary [radians]',params.vPhi,params.vTheta)\n",
    "params.vOmega=2*np.pi*np.random.rand()\n",
    "print('On-sky orientation angle of binary [radians]',params.vOmega)\n",
    "params.tPeri=astromet.period(params)*np.random.rand()\n",
    "print('Time of first binary periapse [years]: ',params.tPeri)\n",
    "\n",
    "\n",
    "\n",
    "# on sky paths [degrees]\n",
    "ras,decs=astromet.path(ts,params)"
   ]
  },
  {
   "cell_type": "code",
   "execution_count": 62,
   "metadata": {},
   "outputs": [
    {
     "name": "stdout",
     "output_type": "stream",
     "text": [
      "medRa:  33.694625485502925\n",
      "original parameters [mas]: \t 0 0 7.59290012024251 8.28154452428643 9.024455192753711\n",
      "derived parameters [mas]: \t [ 0.53599289 -3.88649757  6.79131511  9.1311438   8.7319543 ]\n",
      "derived parameter error [mas]: \t [0.19064531 0.16945971 0.10726813 0.10599915 0.11245549]\n",
      "\n",
      "covariance matrix [mas**2]: \n",
      " [[ 0.03634563  0.00218512 -0.01344247  0.0006649   0.01018984]\n",
      " [ 0.00218512  0.02871659  0.00043439 -0.01489774  0.00271187]\n",
      " [-0.01344247  0.00043439  0.01150645  0.00013218  0.00202569]\n",
      " [ 0.0006649  -0.01489774  0.00013218  0.01123582  0.00082518]\n",
      " [ 0.01018984  0.00271187  0.00202569  0.00082518  0.01264624]]\n"
     ]
    }
   ],
   "source": [
    "# fitting for offset from first obs (delta RA_0 & delta Dec_0), proper motion and parralax\n",
    "fitParams,fitCovariance=astromet.fit(ts,ras,decs)\n",
    "print('original parameters [mas]: \\t',0,0,params.pmRA,params.pmDec,params.pllx)\n",
    "print('derived parameters [mas]: \\t',fitParams)\n",
    "print('derived parameter error [mas]: \\t',np.sqrt(np.diagonal(fitCovariance)))\n",
    "# note that parameters may not agree within error bars due to binary contribution\n",
    "\n",
    "print('\\ncovariance matrix [mas**2]: \\n',fitCovariance)"
   ]
  },
  {
   "cell_type": "code",
   "execution_count": 63,
   "metadata": {},
   "outputs": [
    {
     "data": {
      "image/png": "[encoded data removed]",
      "text/plain": [
       "<Figure size 432x288 with 1 Axes>"
      ]
     },
     "metadata": {
      "needs_background": "light"
     },
     "output_type": "display_data"
    }
   ],
   "source": [
    "# plotting on sky motion\n",
    "qPl=plt.gca() # defining matplotlib axis object on which to plot\n",
    "\n",
    "deltaRas=(ras-ras[0])/mas # posn relative to first observation in mas\n",
    "deltaDecs=(decs-decs[0])/mas\n",
    "cs=mpl.cm.cividis(ts/ts[-1]) # optional, but I like to color by time\n",
    "qPl.scatter(deltaRas,deltaDecs,s=5,c=cs)\n",
    "\n",
    "# optional - adding the centre of mass motion (grey) for reference\n",
    "tUniform=np.linspace(ts[0],ts[-1],1000)\n",
    "comRas,comDecs=astromet.comPath(tUniform,params)\n",
    "deltaComRas=(comRas-comRas[0])/mas\n",
    "deltaComDecs=(comDecs-comDecs[0])/mas\n",
    "qPl.plot(deltaComRas,deltaComDecs,lw=1,c='k',alpha=0.5)\n",
    "\n",
    "# optional - adding best fit motion (blue) for reference\n",
    "bestParams=astromet.params()\n",
    "bestParams.RA=ras[0]+mas*fitParams[0]\n",
    "bestParams.Dec=decs[0]+mas*fitParams[1]\n",
    "bestParams.pmRA=fitParams[2]\n",
    "bestParams.pmDec=fitParams[3]\n",
    "bestParams.pllx=fitParams[4]\n",
    "bestRas,bestDecs=astromet.comPath(tUniform,bestParams)\n",
    "deltaBestRas=(bestRas-bestRas[0])/mas\n",
    "deltaBestDecs=(bestDecs-bestDecs[0])/mas\n",
    "qPl.plot(deltaBestRas,deltaBestDecs,lw=1,c='b',alpha=0.5,ls='--')\n",
    "\n",
    "# adding initial position and proper motion as arrow\n",
    "qPl.arrow(0,0,params.pmRA,params.pmDec,head_width=1,color='k',alpha=0.5)\n",
    "\n",
    "qPl.set_xlabel('delta RA [mas]')\n",
    "qPl.set_ylabel('delta Dec [mas]')\n",
    "qPl.set_aspect('equal')\n",
    "\n",
    "plt.show()"
   ]
  }
 ],
 "metadata": {
  "kernelspec": {
   "display_name": "Python 3",
   "language": "python",
   "name": "python3"
  },
  "language_info": {
   "codemirror_mode": {
    "name": "ipython",
    "version": 3
   },
   "file_extension": ".py",
   "mimetype": "text/x-python",
   "name": "python",
   "nbconvert_exporter": "python",
   "pygments_lexer": "ipython3",
   "version": "3.7.7"
  }
 },
 "nbformat": 4,
 "nbformat_minor": 4
}
